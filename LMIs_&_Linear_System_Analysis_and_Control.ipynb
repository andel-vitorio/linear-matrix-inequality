{
 "cells": [
  {
   "cell_type": "markdown",
   "metadata": {},
   "source": [
    "# Análise e Controle de Sistemas Lineares Incertos por meio de Desigualdades Matriciais Lineares: Exercício\n",
    "\n",
    "## Descrição\n",
    "\n",
    "Eeste notebook explora conceitos avançados de análise e controle de sistemas lineares incertos através da formulação e resolução de problemas de programação linear utilizando as bibliotecas CVX e Mosek em Python, com ênfase em Inequações Matriciais Lineares (LMIs).\n",
    "\n",
    "### Data de Criação\n",
    "\n",
    "2024-01-21\n",
    "\n",
    "### Data de Modificação\n",
    "\n",
    "2024-01-22\n",
    "\n",
    "## Autor\n",
    "\n",
    "Andevaldo da Encarnação Vitório"
   ]
  }
 ],
 "metadata": {
  "language_info": {
   "name": "python"
  }
 },
 "nbformat": 4,
 "nbformat_minor": 2
}

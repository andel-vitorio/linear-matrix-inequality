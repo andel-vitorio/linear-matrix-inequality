{
 "cells": [
  {
   "cell_type": "markdown",
   "metadata": {},
   "source": [
    "# Análise e Controle de Sistemas Lineares Incertos por meio de Desigualdades Matriciais Lineares: Exercício\n",
    "\n",
    "## Descrição\n",
    "\n",
    "Eeste notebook explora conceitos avançados de análise e controle de sistemas lineares incertos através da formulação e resolução de problemas de programação linear utilizando as bibliotecas CVX e Mosek em Python, com ênfase em Inequações Matriciais Lineares (LMIs).\n",
    "\n",
    "### Data de Criação\n",
    "\n",
    "2024-01-21\n",
    "\n",
    "### Data de Modificação\n",
    "\n",
    "2024-01-22\n",
    "\n",
    "## Autor\n",
    "\n",
    "Andevaldo da Encarnação Vitório"
   ]
  },
  {
   "cell_type": "markdown",
   "metadata": {},
   "source": [
    "## Importação das Bibliotecas Necessárias"
   ]
  },
  {
   "cell_type": "code",
   "execution_count": 2,
   "metadata": {},
   "outputs": [],
   "source": [
    "import cvxpy as cp\n",
    "import numpy as np"
   ]
  },
  {
   "cell_type": "markdown",
   "metadata": {},
   "source": [
    "## Problema 1\n",
    "\n",
    "### Descrição\n",
    "\n",
    "Considere o seguinte problema de otimização convexo baseado em desigualdades matriciais lineares:\n",
    "\n",
    "$$ \\underset{P}{\\min} \\space Tr(P) $$\n",
    "$$ P > 0, \\space\\space A^TP+PA+Q < 0 $$\n",
    "\n",
    "Resolva com\n",
    "\n",
    "$$\n",
    "A = \\begin{bmatrix}\n",
    "0 & 1 \\\\\n",
    "-2 & -3\n",
    "\\end{bmatrix}\n",
    ", \\space\n",
    "Q = \n",
    "\\begin{bmatrix}\n",
    "1 & 0 \\\\\n",
    "0 & 1\n",
    "\\end{bmatrix}\n",
    "$$\n"
   ]
  },
  {
   "cell_type": "code",
   "execution_count": 3,
   "metadata": {},
   "outputs": [
    {
     "name": "stdout",
     "output_type": "stream",
     "text": [
      "\n",
      "Valor ótimo: 1.4999999999962756 \n",
      "\n",
      "P = \n",
      " [[1.25 0.25]\n",
      " [0.25 0.25]]\n"
     ]
    }
   ],
   "source": [
    "# Problema 1 - Parte 1\n",
    "\n",
    "# Definição da Variável P\n",
    "P = cp.Variable((2,2), symmetric=True)\n",
    "\n",
    "# Definiçaõ dos Parâmetros\n",
    "A = cp.Parameter((2,2), value=[[0., -2.],[1, -3]])\n",
    "Q = cp.Parameter((2,2), value=np.eye(2))\n",
    "\n",
    "# Apresentação dos parâmetros\n",
    "# print('A =\\n', A.value)\n",
    "# print('\\nQ =\\n', Q.value)\n",
    "\n",
    "# Definição do problema de otimização convexa: objetivo e restrições\n",
    "obj = cp.Minimize(cp.trace(P))\n",
    "constraints = [P >> 0, A.T @ P + P @ A + Q << 0]\n",
    "prob = cp.Problem(obj, constraints)\n",
    "\n",
    "# Resolução do Problema usando o solver MOSEK\n",
    "prob.solve(solver=cp.MOSEK, verbose=False)\n",
    "print(\"\\nValor ótimo:\", prob.value, '\\n')\n",
    "\n",
    "# Apresentação do resultado obtido na resolução\n",
    "print(\"P = \\n\", P.value)"
   ]
  },
  {
   "cell_type": "markdown",
   "metadata": {},
   "source": [
    "Resolva agora com o seguinte problema de otimização alternativo:\n",
    "\n",
    "$$ \\underset{P,\\space \\rho}{\\min}\\space Tr(\\rho) $$\n",
    "$$ P > 0, \\space\\space A^TP + PA + Q < 0, \\space\\space \\rho \\geq Tr(P) $$"
   ]
  },
  {
   "cell_type": "code",
   "execution_count": 4,
   "metadata": {},
   "outputs": [
    {
     "name": "stdout",
     "output_type": "stream",
     "text": [
      "\n",
      "Valor ótimo: 1.4999999999962756 \n",
      "\n",
      "P = \n",
      " [[1.25 0.25]\n",
      " [0.25 0.25]] \n",
      "\n",
      "rho = \n",
      " 1.4999999999962756\n"
     ]
    }
   ],
   "source": [
    "# Problema 1 - Parte 2\n",
    "\n",
    "# Definição da Variáveis P e rho\n",
    "P = cp.Variable((2,2), symmetric=True)\n",
    "rho = cp.Variable()\n",
    "\n",
    "# Definiçaõ dos Parâmetros\n",
    "A = cp.Parameter((2,2), value=[[0., -2.],[1., -3.]])\n",
    "Q = cp.Parameter((2,2), value=np.eye(2))\n",
    "\n",
    "# Apresentação dos parâmetros\n",
    "# print('A =\\n', A.value)\n",
    "# print('\\nQ =\\n', Q.value)\n",
    "\n",
    "# Definição do problema de otimização convexa: objetivo e restrições\n",
    "obj = cp.Minimize(rho)\n",
    "constraints = [P >> 0, A.T @ P + P @ A + Q << 0, rho >= cp.trace(P)]\n",
    "prob = cp.Problem(obj, constraints)\n",
    "\n",
    "# Resolução do Problema usando o solver MOSEK\n",
    "prob.solve(solver=cp.MOSEK, verbose=False)\n",
    "print(\"\\nValor ótimo:\", prob.value, '\\n')\n",
    "\n",
    "# Apresentação do resultado obtido na resolução\n",
    "print(\"P = \\n\", P.value, '\\n')\n",
    "print(\"rho = \\n\", rho.value)"
   ]
  }
 ],
 "metadata": {
  "kernelspec": {
   "display_name": "Python 3",
   "language": "python",
   "name": "python3"
  },
  "language_info": {
   "codemirror_mode": {
    "name": "ipython",
    "version": 3
   },
   "file_extension": ".py",
   "mimetype": "text/x-python",
   "name": "python",
   "nbconvert_exporter": "python",
   "pygments_lexer": "ipython3",
   "version": "3.10.12"
  }
 },
 "nbformat": 4,
 "nbformat_minor": 2
}
